{
 "cells": [
  {
   "cell_type": "code",
   "execution_count": 3,
   "metadata": {},
   "outputs": [],
   "source": [
    "import numpy as np\n",
    "import pandas as pd\n",
    "import matplotlib.pyplot as plt"
   ]
  },
  {
   "cell_type": "markdown",
   "metadata": {},
   "source": [
    "**Table and graph of ball dropped from .5 Meters.**"
   ]
  },
  {
   "cell_type": "code",
   "execution_count": 5,
   "metadata": {},
   "outputs": [
    {
     "data": {
      "text/html": [
       "<div>\n",
       "<style scoped>\n",
       "    .dataframe tbody tr th:only-of-type {\n",
       "        vertical-align: middle;\n",
       "    }\n",
       "\n",
       "    .dataframe tbody tr th {\n",
       "        vertical-align: top;\n",
       "    }\n",
       "\n",
       "    .dataframe thead th {\n",
       "        text-align: right;\n",
       "    }\n",
       "</style>\n",
       "<table border=\"1\" class=\"dataframe\">\n",
       "  <thead>\n",
       "    <tr style=\"text-align: right;\">\n",
       "      <th></th>\n",
       "      <th>t</th>\n",
       "      <th>y</th>\n",
       "      <th>v_{y}</th>\n",
       "      <th>Unnamed: 3</th>\n",
       "      <th>ave = -1.4713386281249998</th>\n",
       "    </tr>\n",
       "  </thead>\n",
       "  <tbody>\n",
       "    <tr>\n",
       "      <th>0</th>\n",
       "      <td>0.0000</td>\n",
       "      <td>0.4600</td>\n",
       "      <td>NaN</td>\n",
       "      <td>NaN</td>\n",
       "      <td>NaN</td>\n",
       "    </tr>\n",
       "    <tr>\n",
       "      <th>1</th>\n",
       "      <td>0.0333</td>\n",
       "      <td>0.4400</td>\n",
       "      <td>-0.742</td>\n",
       "      <td>NaN</td>\n",
       "      <td>NaN</td>\n",
       "    </tr>\n",
       "    <tr>\n",
       "      <th>2</th>\n",
       "      <td>0.0667</td>\n",
       "      <td>0.4100</td>\n",
       "      <td>-0.791</td>\n",
       "      <td>NaN</td>\n",
       "      <td>NaN</td>\n",
       "    </tr>\n",
       "    <tr>\n",
       "      <th>3</th>\n",
       "      <td>0.1000</td>\n",
       "      <td>0.3870</td>\n",
       "      <td>-1.040</td>\n",
       "      <td>NaN</td>\n",
       "      <td>NaN</td>\n",
       "    </tr>\n",
       "    <tr>\n",
       "      <th>4</th>\n",
       "      <td>0.1330</td>\n",
       "      <td>0.3410</td>\n",
       "      <td>-1.480</td>\n",
       "      <td>NaN</td>\n",
       "      <td>NaN</td>\n",
       "    </tr>\n",
       "    <tr>\n",
       "      <th>5</th>\n",
       "      <td>0.1670</td>\n",
       "      <td>0.2880</td>\n",
       "      <td>-1.780</td>\n",
       "      <td>NaN</td>\n",
       "      <td>NaN</td>\n",
       "    </tr>\n",
       "    <tr>\n",
       "      <th>6</th>\n",
       "      <td>0.2000</td>\n",
       "      <td>0.2220</td>\n",
       "      <td>-2.130</td>\n",
       "      <td>NaN</td>\n",
       "      <td>NaN</td>\n",
       "    </tr>\n",
       "    <tr>\n",
       "      <th>7</th>\n",
       "      <td>0.2330</td>\n",
       "      <td>0.1470</td>\n",
       "      <td>-2.180</td>\n",
       "      <td>NaN</td>\n",
       "      <td>NaN</td>\n",
       "    </tr>\n",
       "    <tr>\n",
       "      <th>8</th>\n",
       "      <td>0.2670</td>\n",
       "      <td>0.0774</td>\n",
       "      <td>-1.630</td>\n",
       "      <td>NaN</td>\n",
       "      <td>NaN</td>\n",
       "    </tr>\n",
       "    <tr>\n",
       "      <th>9</th>\n",
       "      <td>0.3000</td>\n",
       "      <td>0.0378</td>\n",
       "      <td>NaN</td>\n",
       "      <td>NaN</td>\n",
       "      <td>NaN</td>\n",
       "    </tr>\n",
       "  </tbody>\n",
       "</table>\n",
       "</div>"
      ],
      "text/plain": [
       "        t       y  v_{y}  Unnamed: 3  ave = -1.4713386281249998\n",
       "0  0.0000  0.4600    NaN         NaN                        NaN\n",
       "1  0.0333  0.4400 -0.742         NaN                        NaN\n",
       "2  0.0667  0.4100 -0.791         NaN                        NaN\n",
       "3  0.1000  0.3870 -1.040         NaN                        NaN\n",
       "4  0.1330  0.3410 -1.480         NaN                        NaN\n",
       "5  0.1670  0.2880 -1.780         NaN                        NaN\n",
       "6  0.2000  0.2220 -2.130         NaN                        NaN\n",
       "7  0.2330  0.1470 -2.180         NaN                        NaN\n",
       "8  0.2670  0.0774 -1.630         NaN                        NaN\n",
       "9  0.3000  0.0378    NaN         NaN                        NaN"
      ]
     },
     "execution_count": 5,
     "metadata": {},
     "output_type": "execute_result"
    }
   ],
   "source": [
    "Data = pd.read_csv(\"C:\\\\Users\\\\abdel\\Desktop\\Tracker and Excel\\Tracker.5m.csv\", skiprows = 1 )\n",
    "Data"
   ]
  },
  {
   "cell_type": "code",
   "execution_count": 6,
   "metadata": {},
   "outputs": [],
   "source": [
    "v_y = Data[ 'v_{y}' ]"
   ]
  },
  {
   "cell_type": "code",
   "execution_count": 7,
   "metadata": {},
   "outputs": [
    {
     "data": {
      "text/plain": [
       "0      NaN\n",
       "1   -0.742\n",
       "2   -0.791\n",
       "3   -1.040\n",
       "4   -1.480\n",
       "5   -1.780\n",
       "6   -2.130\n",
       "7   -2.180\n",
       "8   -1.630\n",
       "9      NaN\n",
       "Name: v_{y}, dtype: float64"
      ]
     },
     "execution_count": 7,
     "metadata": {},
     "output_type": "execute_result"
    }
   ],
   "source": [
    "v_y"
   ]
  },
  {
   "cell_type": "code",
   "execution_count": 8,
   "metadata": {},
   "outputs": [
    {
     "data": {
      "text/plain": [
       "1   -0.742\n",
       "2   -0.791\n",
       "3   -1.040\n",
       "4   -1.480\n",
       "5   -1.780\n",
       "6   -2.130\n",
       "7   -2.180\n",
       "8   -1.630\n",
       "Name: v_{y}, dtype: float64"
      ]
     },
     "execution_count": 8,
     "metadata": {},
     "output_type": "execute_result"
    }
   ],
   "source": [
    "v_y = v_y[ 1 : len(v_y) - 1 ]\n",
    "v_y"
   ]
  },
  {
   "cell_type": "code",
   "execution_count": 9,
   "metadata": {},
   "outputs": [
    {
     "data": {
      "text/plain": [
       "-1.471625"
      ]
     },
     "execution_count": 9,
     "metadata": {},
     "output_type": "execute_result"
    }
   ],
   "source": [
    "v_avg = np.average( v_y )\n",
    "v_avg"
   ]
  },
  {
   "cell_type": "markdown",
   "metadata": {},
   "source": [
    "**Average velocity values for .5, 1, 1.5, and 2 meters**"
   ]
  },
  {
   "cell_type": "code",
   "execution_count": 10,
   "metadata": {},
   "outputs": [],
   "source": [
    "t1 = -1.4713386281249998\n",
    "t2 = -1.8458326666666665\n",
    "t3 = -2.865066666666666\n",
    "t4 = -3.2436470588235293"
   ]
  },
  {
   "cell_type": "code",
   "execution_count": 11,
   "metadata": {},
   "outputs": [],
   "source": [
    "vy_trial_avg = np.average( [ t1, t2, t3 ] )"
   ]
  },
  {
   "cell_type": "code",
   "execution_count": 13,
   "metadata": {
    "scrolled": false
   },
   "outputs": [
    {
     "data": {
      "text/plain": [
       "-2.0607459871527776"
      ]
     },
     "execution_count": 13,
     "metadata": {},
     "output_type": "execute_result"
    }
   ],
   "source": [
    "vy_trial_avg"
   ]
  },
  {
   "cell_type": "code",
   "execution_count": 21,
   "metadata": {},
   "outputs": [
    {
     "data": {
      "text/plain": [
       "Text(0.5, 1.0, 'Projectile Trajectory')"
      ]
     },
     "execution_count": 21,
     "metadata": {},
     "output_type": "execute_result"
    },
    {
     "data": {
      "image/png": "[encoded data removed]",
      "text/plain": [
       "<Figure size 432x288 with 1 Axes>"
      ]
     },
     "metadata": {
      "needs_background": "light"
     },
     "output_type": "display_data"
    }
   ],
   "source": [
    "t = Data[ \"t\" ]\n",
    "h = Data[ \"y\" ]\n",
    "plt.scatter( t, h, color = 'red', edgecolor = 'blue' )\n",
    "plt.ylabel( 'Height [m]' )\n",
    "plt.xlabel( 'Time [s]' )\n",
    "plt.title( 'Projectile Trajectory' )"
   ]
  },
  {
   "cell_type": "markdown",
   "metadata": {},
   "source": [
    "**Calculating t-score**"
   ]
  },
  {
   "cell_type": "code",
   "execution_count": 23,
   "metadata": {},
   "outputs": [],
   "source": [
    "sample_a = h\n",
    "sample_b = v_y"
   ]
  },
  {
   "cell_type": "code",
   "execution_count": 24,
   "metadata": {},
   "outputs": [],
   "source": [
    "a_avg = np.average( sample_a )\n",
    "b_avg = np.average( sample_b )"
   ]
  },
  {
   "cell_type": "code",
   "execution_count": 25,
   "metadata": {},
   "outputs": [],
   "source": [
    "n_a = len( sample_a )\n",
    "n_b = len( sample_b )"
   ]
  },
  {
   "cell_type": "code",
   "execution_count": 26,
   "metadata": {},
   "outputs": [],
   "source": [
    "a_stdev = np.std( sample_a )\n",
    "b_stdev = np.std( sample_b )"
   ]
  },
  {
   "cell_type": "code",
   "execution_count": 27,
   "metadata": {},
   "outputs": [],
   "source": [
    "a_stdunc = a_stdev / np.sqrt( n_a )\n",
    "b_stdunc = b_stdev / np.sqrt( n_b )"
   ]
  },
  {
   "cell_type": "code",
   "execution_count": 28,
   "metadata": {},
   "outputs": [],
   "source": [
    "t = ( a_avg - b_avg ) / np.sqrt( a_stdunc ** 2 + b_stdunc ** 2 )"
   ]
  },
  {
   "cell_type": "code",
   "execution_count": 29,
   "metadata": {},
   "outputs": [
    {
     "name": "stdout",
     "output_type": "stream",
     "text": [
      "t-score = 9.103172142584787\n"
     ]
    }
   ],
   "source": [
    "print( \"t-score =\", t )"
   ]
  }
 ],
 "metadata": {
  "kernelspec": {
   "display_name": "Python 3",
   "language": "python",
   "name": "python3"
  },
  "language_info": {
   "codemirror_mode": {
    "name": "ipython",
    "version": 3
   },
   "file_extension": ".py",
   "mimetype": "text/x-python",
   "name": "python",
   "nbconvert_exporter": "python",
   "pygments_lexer": "ipython3",
   "version": "3.8.3"
  }
 },
 "nbformat": 4,
 "nbformat_minor": 4
}
